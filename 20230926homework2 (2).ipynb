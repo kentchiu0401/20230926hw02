{
 "cells": [
  {
   "cell_type": "code",
   "execution_count": 1,
   "id": "dd33b298",
   "metadata": {
    "scrolled": true
   },
   "outputs": [
    {
     "name": "stdout",
     "output_type": "stream",
     "text": [
      "請猜一個1到100之間的數字：25\n",
      "太大囉！再猜猜看。\n",
      "請猜一個1到100之間的數字：o\n",
      "不對唷！要輸入半形整數數字才可以喔！\n",
      "請猜一個1到100之間的數字：t\n",
      "不對唷！要輸入半形整數數字才可以喔！\n",
      "請猜一個1到100之間的數字：一\n",
      "不對唷！要輸入半形整數數字才可以喔！\n",
      "請猜一個1到100之間的數字：29\n",
      "太大囉！再猜猜看。\n",
      "請猜一個1到100之間的數字：15\n",
      "太大囉！再猜猜看。\n",
      "請猜一個1到100之間的數字：10\n",
      "太大囉！再猜猜看。\n",
      "請猜一個1到100之間的數字：5\n",
      "厲害耶！你猜到了唷！\n"
     ]
    }
   ],
   "source": [
    "import random #匯入產生隨機數字的模組，之後會學到\n",
    "#隨機產生一個1到100之間的數字，並將這數字指定給變數 target_number\n",
    "target_number = random.randint(1,100)\n",
    "\n",
    "\n",
    "while True:\n",
    "    try:\n",
    "        a = int(input('請猜一個1到100之間的數字：'))\n",
    "    except ValueError:\n",
    "        print('不對唷！要輸入半形整數數字才可以喔！')\n",
    "        continue\n",
    "    if a == target_number:\n",
    "        print('厲害耶！你猜到了唷！')\n",
    "        break\n",
    "    elif a < target_number:\n",
    "        print('太小囉！再猜猜看。')   \n",
    "    else:\n",
    "        print('太大囉！再猜猜看。')"
   ]
  },
  {
   "cell_type": "code",
   "execution_count": 3,
   "id": "07d03b39",
   "metadata": {},
   "outputs": [
    {
     "name": "stdout",
     "output_type": "stream",
     "text": [
      "請猜一個1到100之間的數字：(按Enter可直接離開)25\n",
      "太小囉！再猜猜看。\n",
      "請猜一個1到100之間的數字：(按Enter可直接離開)51\n",
      "太小囉！再猜猜看。\n",
      "請猜一個1到100之間的數字：(按Enter可直接離開)\n"
     ]
    }
   ],
   "source": [
    "import random #匯入產生隨機數字的模組，之後會學到\n",
    "#隨機產生一個1到100之間的數字，並將這數字指定給變數 target_number\n",
    "target_number = random.randint(1,100)\n",
    "\n",
    "\n",
    "while True:\n",
    "    try:\n",
    "        a = input('請猜一個1到100之間的數字：(按Enter可直接離開)')\n",
    "        \n",
    "        if a==\"\":\n",
    "            break\n",
    "        elif int(a)<target_number:\n",
    "            print('太小囉！再猜猜看。')\n",
    "        elif int(a)>target_number:\n",
    "            print('太大囉！再猜猜看。')\n",
    "        else:\n",
    "            print('厲害耶！你猜到了唷！')\n",
    "            break\n",
    "    except ValueError:\n",
    "        print('不對唷！要輸入半形整數數字才可以喔！')"
   ]
  },
  {
   "cell_type": "code",
   "execution_count": null,
   "id": "b7752ac6",
   "metadata": {},
   "outputs": [],
   "source": []
  }
 ],
 "metadata": {
  "kernelspec": {
   "display_name": "Python 3 (ipykernel)",
   "language": "python",
   "name": "python3"
  },
  "language_info": {
   "codemirror_mode": {
    "name": "ipython",
    "version": 3
   },
   "file_extension": ".py",
   "mimetype": "text/x-python",
   "name": "python",
   "nbconvert_exporter": "python",
   "pygments_lexer": "ipython3",
   "version": "3.11.4"
  }
 },
 "nbformat": 4,
 "nbformat_minor": 5
}
